{
 "cells": [
  {
   "cell_type": "code",
   "execution_count": 1,
   "metadata": {
    "collapsed": true
   },
   "outputs": [],
   "source": [
    "from sklearn import ensemble, linear_model, pipeline\n",
    "from beat_the_streak.transformers import FeatureSelector\n",
    "from beat_the_streak.list_subtract import subtract\n",
    "from beat_the_streak.players import PlayerModel\n",
    "from sklearn.ensemble import VotingClassifier\n",
    "from beat_the_streak.dataset import test_train_split, train_cols\n",
    "from beat_the_streak.metrics import BestPickForEachDayGotHitPercent"
   ]
  },
  {
   "cell_type": "code",
   "execution_count": 5,
   "metadata": {
    "collapsed": false
   },
   "outputs": [],
   "source": [
    "def forest_factory_factory(*args, **kargs):\n",
    "    def factory():\n",
    "        return ensemble.RandomForestClassifier(*args, **kargs)\n",
    "    return factory\n",
    "\n",
    "def log_factory():\n",
    "    return linear_model.LogisticRegression()\n",
    "\n",
    "def log_factory100():\n",
    "    return linear_model.LogisticRegression(C=100)\n",
    "\n",
    "def log_factory5():\n",
    "    return linear_model.LogisticRegression(C=.5)\n",
    "\n",
    "possible_factories = [  \n",
    "    log_factory,\n",
    "    log_factory100,\n",
    "    log_factory5,\n",
    "    forest_factory_factory(min_samples_split=2, n_estimators=5, max_features='sqrt'),\n",
    "    forest_factory_factory(min_samples_split=2, n_estimators=5, max_features='auto'),\n",
    "\n",
    "    forest_factory_factory(min_samples_split=20, n_estimators=15, max_features='sqrt'),\n",
    "    forest_factory_factory(min_samples_split=20, n_estimators=15, max_features='auto'),\n",
    "    \n",
    "    forest_factory_factory(min_samples_split=2, n_estimators=10, max_features='sqrt'),\n",
    "    forest_factory_factory(min_samples_split=2, n_estimators=10, max_features='auto'),\n",
    "\n",
    "    forest_factory_factory(min_samples_split=20, n_estimators=10, max_depth=100, max_features='auto'),\n",
    "    forest_factory_factory(min_samples_split=20, n_estimators=10, max_depth=10, max_features='auto'),\n",
    "    \n",
    "    forest_factory_factory(min_samples_split=20, n_estimators=10, max_depth=100, max_features='sqrt'),\n",
    "    forest_factory_factory(min_samples_split=20, n_estimators=10, max_depth=10, max_features='auto'),\n",
    "    \n",
    "    forest_factory_factory(max_leaf_nodes=100, min_samples_split=20, n_estimators=10, max_features='sqrt'),\n",
    "    forest_factory_factory(max_leaf_nodes=100, min_samples_split=20, n_estimators=10, max_features='auto'),\n",
    "    \n",
    "    forest_factory_factory(max_leaf_nodes=100, min_samples_split=2, n_estimators=5, max_features='sqrt'),\n",
    "    forest_factory_factory( max_leaf_nodes=100, min_samples_split=2, n_estimators=5, max_features='auto'),\n",
    "    \n",
    "    forest_factory_factory(max_leaf_nodes=100, min_samples_split=20, n_estimators=15, max_features='sqrt'),\n",
    "    forest_factory_factory(max_leaf_nodes=100, min_samples_split=20, n_estimators=15, max_features='auto'),\n",
    "    \n",
    "    forest_factory_factory(max_leaf_nodes=100, min_samples_split=2, n_estimators=10, max_features='sqrt'),\n",
    "    forest_factory_factory(max_leaf_nodes=100, min_samples_split=2, n_estimators=10, max_features='auto'),\n",
    "\n",
    "    forest_factory_factory(max_leaf_nodes=100, min_samples_split=20, n_estimators=10, max_features='sqrt'),\n",
    "    forest_factory_factory(max_leaf_nodes=100, min_samples_split=20, n_estimators=10, max_features='auto'),\n",
    "    \n",
    "    forest_factory_factory(max_leaf_nodes=20, min_samples_split=20, n_estimators=10, max_features='sqrt'),\n",
    "    forest_factory_factory(max_leaf_nodes=20, min_samples_split=20, n_estimators=10, max_features='auto'),\n",
    "    \n",
    "    forest_factory_factory(max_leaf_nodes=20, min_samples_split=2, n_estimators=5, max_features='sqrt'),\n",
    "    forest_factory_factory( max_leaf_nodes=20, min_samples_split=2, n_estimators=5, max_features='auto'),\n",
    "    \n",
    "    forest_factory_factory(max_leaf_nodes=20, min_samples_split=20, n_estimators=15, max_features='sqrt'),\n",
    "    forest_factory_factory(max_leaf_nodes=20, min_samples_split=20, n_estimators=15, max_features='auto'),\n",
    "    \n",
    "    forest_factory_factory(max_leaf_nodes=20, min_samples_split=2, n_estimators=10, max_features='sqrt'),\n",
    "    forest_factory_factory(max_leaf_nodes=20, min_samples_split=2, n_estimators=10, max_features='auto'),\n",
    "\n",
    "    forest_factory_factory(max_leaf_nodes=20, min_samples_split=20, n_estimators=10, max_features='auto'),\n",
    "    forest_factory_factory(max_leaf_nodes=20, min_samples_split=20, n_estimators=10, max_features='sqrt'),\n",
    "]\n",
    "\n",
    "\n",
    "tuned_parameters = {    \n",
    "    'weights': [[1,1,.8], [1,1,1], [1,1,1.2], [1,1.2,1]],\n",
    "    'voting': ['soft', 'hard'],\n",
    "    'lg__clf__C': [1.0],\n",
    "    \n",
    "    'ply__clf__model_cls': [possible_factories],\n",
    "    \n",
    "    'rf__clf__n_estimators': [25],\n",
    "    'rf__clf__max_features': ['auto'],\n",
    "    'rf__clf__max_depth': [15,12],\n",
    "    'rf__clf__min_samples_split': [1],\n",
    "    'rf__clf__max_leaf_nodes': [10], \n",
    "}"
   ]
  },
  {
   "cell_type": "code",
   "execution_count": null,
   "metadata": {
    "collapsed": false
   },
   "outputs": [],
   "source": [
    "from beat_the_streak import dataset\n",
    "from sklearn.grid_search import GridSearchCV\n",
    "from sklearn.cross_validation import LabelKFold\n",
    "\n",
    "choices = dataset.load_dataset_starting_at_day('2015-05-30')\n",
    "\n",
    "\n",
    "rf = pipeline.Pipeline([\n",
    "        ('sel', FeatureSelector(subtract(train_cols, ['player_hash']))),\n",
    "        ('clf', ensemble.RandomForestClassifier())])\n",
    "lg = pipeline.Pipeline([\n",
    "        ('sel', FeatureSelector(subtract(train_cols, ['player_hash']))),\n",
    "        ('clf', linear_model.LogisticRegression())]) \n",
    "ply = pipeline.Pipeline([\n",
    "        ('sel', FeatureSelector(subtract(train_cols, ['hitting_average']))),\n",
    "        ('clf', PlayerModel())])\n",
    "\n",
    "voting_model = VotingClassifier(estimators=[('rf', rf), ('lg', lg), ('ply', ply)])\n",
    "\n",
    "grid = GridSearchCV(voting_model,\n",
    "                    tuned_parameters, \n",
    "                    cv=LabelKFold(choices.game_date, n_folds=10),\n",
    "                    n_jobs=6,\n",
    "                    scoring=BestPickForEachDayGotHitPercent(choices.game_date, number_of_choices_per_day=10))     \n",
    "\n",
    "grid.fit(choices[dataset.train_cols], choices.got_hit)"
   ]
  },
  {
   "cell_type": "code",
   "execution_count": null,
   "metadata": {
    "collapsed": true
   },
   "outputs": [],
   "source": []
  }
 ],
 "metadata": {
  "kernelspec": {
   "display_name": "Python 2",
   "language": "python",
   "name": "python2"
  },
  "language_info": {
   "codemirror_mode": {
    "name": "ipython",
    "version": 2
   },
   "file_extension": ".py",
   "mimetype": "text/x-python",
   "name": "python",
   "nbconvert_exporter": "python",
   "pygments_lexer": "ipython2",
   "version": "2.7.10"
  }
 },
 "nbformat": 4,
 "nbformat_minor": 0
}
