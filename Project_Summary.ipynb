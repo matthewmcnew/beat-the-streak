{
 "cells": [
  {
   "cell_type": "markdown",
   "metadata": {},
   "source": [
    "[logo]: http://mlb.mlb.com/mlb/components/fantasy/bts/y2016/images/bts_250x250.jpg \"Beat the Streak\"\n",
    "\n",
    "![alt text][logo]\n",
    "\n",
    "To run the code in this notebook clone the github repo at: https://github.com/matthewmcnew/beat-the-streak"
   ]
  },
  {
   "cell_type": "markdown",
   "metadata": {},
   "source": [
    "# Beat the Streak? \n",
    "\n",
    "MLB.com offers an online game titled, Beat the Streak. In the game players can attempt to beat Joe Dimaggio's hitting streak by picking a player that gets a hit in 56 consecutive games. Players are allowed to pick two players for each day and even pass on picking on a day. Since the game's inception in 2001, no online player has managed to beat the streak and win the grand prize of $5,600,000. \n",
    "\n",
    "This project will attempt to model beat the streak as a classification problem. The machine learning models will attempt to predict which players have a high likelihood of getting a hit for a given day. Due to the importance of picking correctly, the machine learning models will be optimized for precision. Ultimately, the model will suggest one or a few batters out of hundreds as suggested batters for a day.\n",
    "\n",
    "Even with a very accurate model the probability of actually beating the streak is very low. The realistic goal of the project will be to see if the machine learning models can outperform baseball experts. If the models are relatively useful or accurate an online website could be set up to provide daily beat the streak recommendations. "
   ]
  },
  {
   "cell_type": "markdown",
   "metadata": {},
   "source": [
    "#### Ok but, really how hard is it to Beat the Streak?\n",
    "\n",
    "Well, if we were able to predict who would get a hit in 90% of the games correctly the probability would be:"
   ]
  },
  {
   "cell_type": "code",
   "execution_count": 7,
   "metadata": {
    "collapsed": false
   },
   "outputs": [
    {
     "data": {
      "text/plain": [
       "(0.002738927449953412, '%')"
      ]
     },
     "execution_count": 7,
     "metadata": {},
     "output_type": "execute_result"
    }
   ],
   "source": [
    ".90 ** 56, \"%\""
   ]
  },
  {
   "cell_type": "markdown",
   "metadata": {},
   "source": [
    "00.2% is a pretty low. Oh, and reaching 90% accuracy would be really hard as well. \n",
    "\n",
    "With that said, let's dive in shall we?"
   ]
  },
  {
   "cell_type": "markdown",
   "metadata": {},
   "source": [
    "### Acquiring the Baseball Data:"
   ]
  },
  {
   "cell_type": "markdown",
   "metadata": {},
   "source": [
    "Luckily, there is a wealth of baseball data available. This project pulled data from the online Retrosheet database. This data was aggregated to create possible 'choices' for each day and each player in the starting lineup for that day. Then additional data such as a batter's 'hitting average' is calculated for each choice. \n",
    "\n",
    "The steps taken to aquire, clean, process and present the data can be viewed in the Calculating_Averages.ipynb and Build_Choices.ipynb notebooks on the project's [Github repository](https://github.com/matthewmcnew/beat-the-streak)."
   ]
  },
  {
   "cell_type": "markdown",
   "metadata": {},
   "source": [
    "### Exploratory Data Analysis\n",
    "\n",
    "Complete explorations and visualizations of the imported baseball data is available in the [Analysis notebook](https://github.com/matthewmcnew/beat-the-streak/blob/master/Analysis.ipynb).\n",
    "\n",
    "Although, there are plenty of possible covariants for each choice most variables did not appear to have much predictive power. The two strongest variables were the batter's hitting average and the ballpark the game was played in."
   ]
  },
  {
   "cell_type": "markdown",
   "metadata": {},
   "source": [
    "### Machine Learning. "
   ]
  },
  {
   "cell_type": "markdown",
   "metadata": {},
   "source": [
    "The choices were prepared for machine learning modeling by creating a couple of additional features: \n",
    "\n",
    "* Dummy variables were created for Categorical Variables.\n",
    "    * Weather\n",
    "    * Day or Night \n",
    "    * Field Condition\n",
    "    * Precipitation Condition\n",
    "    * Sky Condition\n",
    "* [ESPN's HitsFactor statistic](http://espn.go.com/mlb/stats/parkfactor/_/sort/hitsFactor) to represent how hitter friendly the ballpark for each choice was.\n",
    "* *is_high_attendance* a binary variable that corresponds to 1 if the attendance was greater than 38000.\n",
    "* *is_coors* a binary variable that is 1 if the ballpark is Coors Field. (The most hitter friendly ballpark)\n",
    "* *is_hity_pitcher* a binary variable that is 1 if the starting pitcher allows hits in more than 23% of his batters faced. \n",
    "* *is_really_hity_pitcher* a binary variable that is 1 if the starting pitcher allows hits in more than 26% of his batters faced. \n",
    "* *is_hity_bullpen* a binary variable that is 1 if opposing team's bullpen allows hits by more than 25% of their batters faced. \n",
    "* *pitcher_hand_diff* a continuous variable that equals the difference between the percent of hits given by the starting pitcher and percent of hits given by the starting pitcher's against the batting hand of the batter\n",
    "* *hitter_hand_diff* a continuous variable that equals the difference between the percent of hits given achieved by the batter and percent of hits achieved by the batter against pitchers with the starting pitcher's hand. \n",
    "\n",
    "The final dataset prepped for machine learning can be viewed below:"
   ]
  },
  {
   "cell_type": "code",
   "execution_count": 5,
   "metadata": {
    "collapsed": false
   },
   "outputs": [
    {
     "data": {
      "text/html": [
       "<div>\n",
       "<table border=\"1\" class=\"dataframe\">\n",
       "  <thead>\n",
       "    <tr style=\"text-align: right;\">\n",
       "      <th></th>\n",
       "      <th>game_date</th>\n",
       "      <th>first_name_tx</th>\n",
       "      <th>last_name_tx</th>\n",
       "      <th>game_id</th>\n",
       "      <th>bat_id</th>\n",
       "      <th>bat_home_id</th>\n",
       "      <th>bat_lineup_id</th>\n",
       "      <th>array_agg</th>\n",
       "      <th>count</th>\n",
       "      <th>best_hit</th>\n",
       "      <th>...</th>\n",
       "      <th>sky_3</th>\n",
       "      <th>sky_5</th>\n",
       "      <th>is_high_attendance</th>\n",
       "      <th>is_coors</th>\n",
       "      <th>is_hity_pitcher</th>\n",
       "      <th>is_really_hity_pitcher</th>\n",
       "      <th>is_hity_bull</th>\n",
       "      <th>ballpark</th>\n",
       "      <th>pitcher_hand_diff</th>\n",
       "      <th>hitter_hand_diff</th>\n",
       "    </tr>\n",
       "  </thead>\n",
       "  <tbody>\n",
       "    <tr>\n",
       "      <th>450</th>\n",
       "      <td>2015-05-31</td>\n",
       "      <td>Erick</td>\n",
       "      <td>Aybar</td>\n",
       "      <td>ANA201505310</td>\n",
       "      <td>aybae001</td>\n",
       "      <td>1</td>\n",
       "      <td>1</td>\n",
       "      <td>[u'R', u'R', u'R', u'R', u'L']</td>\n",
       "      <td>5</td>\n",
       "      <td>1</td>\n",
       "      <td>...</td>\n",
       "      <td>0.0</td>\n",
       "      <td>0.0</td>\n",
       "      <td>0</td>\n",
       "      <td>0</td>\n",
       "      <td>0</td>\n",
       "      <td>0</td>\n",
       "      <td>0</td>\n",
       "      <td>0.939</td>\n",
       "      <td>0.053628</td>\n",
       "      <td>0.053885</td>\n",
       "    </tr>\n",
       "    <tr>\n",
       "      <th>451</th>\n",
       "      <td>2015-05-31</td>\n",
       "      <td>Miguel</td>\n",
       "      <td>Cabrera</td>\n",
       "      <td>ANA201505310</td>\n",
       "      <td>cabrm001</td>\n",
       "      <td>0</td>\n",
       "      <td>3</td>\n",
       "      <td>[u'R', u'R', u'R', u'R']</td>\n",
       "      <td>4</td>\n",
       "      <td>1</td>\n",
       "      <td>...</td>\n",
       "      <td>0.0</td>\n",
       "      <td>0.0</td>\n",
       "      <td>0</td>\n",
       "      <td>0</td>\n",
       "      <td>1</td>\n",
       "      <td>0</td>\n",
       "      <td>0</td>\n",
       "      <td>0.939</td>\n",
       "      <td>0.029108</td>\n",
       "      <td>0.012163</td>\n",
       "    </tr>\n",
       "    <tr>\n",
       "      <th>452</th>\n",
       "      <td>2015-05-31</td>\n",
       "      <td>Kole</td>\n",
       "      <td>Calhoun</td>\n",
       "      <td>ANA201505310</td>\n",
       "      <td>calhk001</td>\n",
       "      <td>1</td>\n",
       "      <td>6</td>\n",
       "      <td>[u'L', u'L', u'L', u'L']</td>\n",
       "      <td>4</td>\n",
       "      <td>0</td>\n",
       "      <td>...</td>\n",
       "      <td>0.0</td>\n",
       "      <td>0.0</td>\n",
       "      <td>0</td>\n",
       "      <td>0</td>\n",
       "      <td>0</td>\n",
       "      <td>0</td>\n",
       "      <td>0</td>\n",
       "      <td>0.939</td>\n",
       "      <td>0.008109</td>\n",
       "      <td>-0.015102</td>\n",
       "    </tr>\n",
       "    <tr>\n",
       "      <th>453</th>\n",
       "      <td>2015-05-31</td>\n",
       "      <td>Yoenis</td>\n",
       "      <td>Cespedes</td>\n",
       "      <td>ANA201505310</td>\n",
       "      <td>cespy001</td>\n",
       "      <td>0</td>\n",
       "      <td>4</td>\n",
       "      <td>[u'R', u'R', u'R', u'R']</td>\n",
       "      <td>4</td>\n",
       "      <td>0</td>\n",
       "      <td>...</td>\n",
       "      <td>0.0</td>\n",
       "      <td>0.0</td>\n",
       "      <td>0</td>\n",
       "      <td>0</td>\n",
       "      <td>1</td>\n",
       "      <td>0</td>\n",
       "      <td>0</td>\n",
       "      <td>0.939</td>\n",
       "      <td>0.029108</td>\n",
       "      <td>0.033800</td>\n",
       "    </tr>\n",
       "    <tr>\n",
       "      <th>455</th>\n",
       "      <td>2015-05-31</td>\n",
       "      <td>David</td>\n",
       "      <td>Freese</td>\n",
       "      <td>ANA201505310</td>\n",
       "      <td>freed001</td>\n",
       "      <td>1</td>\n",
       "      <td>4</td>\n",
       "      <td>[u'R', u'R', u'R', u'R']</td>\n",
       "      <td>4</td>\n",
       "      <td>1</td>\n",
       "      <td>...</td>\n",
       "      <td>0.0</td>\n",
       "      <td>0.0</td>\n",
       "      <td>0</td>\n",
       "      <td>0</td>\n",
       "      <td>0</td>\n",
       "      <td>0</td>\n",
       "      <td>0</td>\n",
       "      <td>0.939</td>\n",
       "      <td>-0.018864</td>\n",
       "      <td>-0.004872</td>\n",
       "    </tr>\n",
       "  </tbody>\n",
       "</table>\n",
       "<p>5 rows × 133 columns</p>\n",
       "</div>"
      ],
      "text/plain": [
       "      game_date first_name_tx last_name_tx       game_id    bat_id  \\\n",
       "450  2015-05-31         Erick        Aybar  ANA201505310  aybae001   \n",
       "451  2015-05-31        Miguel      Cabrera  ANA201505310  cabrm001   \n",
       "452  2015-05-31          Kole      Calhoun  ANA201505310  calhk001   \n",
       "453  2015-05-31        Yoenis     Cespedes  ANA201505310  cespy001   \n",
       "455  2015-05-31         David       Freese  ANA201505310  freed001   \n",
       "\n",
       "     bat_home_id  bat_lineup_id                       array_agg  count  \\\n",
       "450            1              1  [u'R', u'R', u'R', u'R', u'L']      5   \n",
       "451            0              3        [u'R', u'R', u'R', u'R']      4   \n",
       "452            1              6        [u'L', u'L', u'L', u'L']      4   \n",
       "453            0              4        [u'R', u'R', u'R', u'R']      4   \n",
       "455            1              4        [u'R', u'R', u'R', u'R']      4   \n",
       "\n",
       "     best_hit       ...         sky_3  sky_5  is_high_attendance  is_coors  \\\n",
       "450         1       ...           0.0    0.0                   0         0   \n",
       "451         1       ...           0.0    0.0                   0         0   \n",
       "452         0       ...           0.0    0.0                   0         0   \n",
       "453         0       ...           0.0    0.0                   0         0   \n",
       "455         1       ...           0.0    0.0                   0         0   \n",
       "\n",
       "     is_hity_pitcher  is_really_hity_pitcher is_hity_bull ballpark  \\\n",
       "450                0                       0            0    0.939   \n",
       "451                1                       0            0    0.939   \n",
       "452                0                       0            0    0.939   \n",
       "453                1                       0            0    0.939   \n",
       "455                0                       0            0    0.939   \n",
       "\n",
       "    pitcher_hand_diff hitter_hand_diff  \n",
       "450          0.053628         0.053885  \n",
       "451          0.029108         0.012163  \n",
       "452          0.008109        -0.015102  \n",
       "453          0.029108         0.033800  \n",
       "455         -0.018864        -0.004872  \n",
       "\n",
       "[5 rows x 133 columns]"
      ]
     },
     "execution_count": 5,
     "metadata": {},
     "output_type": "execute_result"
    }
   ],
   "source": [
    "from beat_the_streak import dataset\n",
    "choices = dataset.load_dataset_starting_at_day('2015-05-30')\n",
    "choices.head()\n"
   ]
  },
  {
   "cell_type": "markdown",
   "metadata": {},
   "source": [
    "### Quantifying Model Performance "
   ]
  },
  {
   "cell_type": "markdown",
   "metadata": {},
   "source": [
    "A successful model needs to be optimized for extreme precision. The batter for each day with the highest probability of a hit would be the choice for the Beat the Streak game. \n",
    "\n",
    "To quantify this desired performance a custom Scikit Learn metric was created. This metric, BestPickForEachDayGotHitPercent, takes the number of days to calculate the top choice for and calculates the percent of successful picks for a model's predicted probability. "
   ]
  },
  {
   "cell_type": "code",
   "execution_count": 11,
   "metadata": {
    "collapsed": true
   },
   "outputs": [],
   "source": [
    "from beat_the_streak import dataset\n",
    "choices = dataset.load_dataset_starting_at_day('2015-05-30')"
   ]
  },
  {
   "cell_type": "code",
   "execution_count": 13,
   "metadata": {
    "collapsed": false
   },
   "outputs": [
    {
     "data": {
      "text/plain": [
       "<beat_the_streak.metrics.BestPickForEachDayGotHitPercent at 0x114192b50>"
      ]
     },
     "execution_count": 13,
     "metadata": {},
     "output_type": "execute_result"
    }
   ],
   "source": [
    "from beat_the_streak.metrics import BestPickForEachDayGotHitPercent\n",
    "\n",
    "metric = BestPickForEachDayGotHitPercent(number_of_choices_per_day=1, game_dates=choices.game_date)\n",
    "\n",
    "metric"
   ]
  },
  {
   "cell_type": "markdown",
   "metadata": {},
   "source": [
    "The models in this project were evaluated with this metric and it will be used throughout this notebook.\n",
    "\n",
    "In order to prevent overfitting the data and to demonstrate realistic performance,  the data is split into a test and a training set. To replicate a realistic test/training split the data is split on a specific date with the training set occurring before the date and the test set occurring after the date. Demonstrations of models in this notebook will use this split and will be trained on the training set and tested on the testing set. "
   ]
  },
  {
   "cell_type": "code",
   "execution_count": 18,
   "metadata": {
    "collapsed": true
   },
   "outputs": [],
   "source": [
    "from beat_the_streak.dataset import test_train_split\n",
    "train_set, test_set = test_train_split(day='2015-07-01')"
   ]
  },
  {
   "cell_type": "markdown",
   "metadata": {},
   "source": [
    "### Naive Model Implementation\n",
    "\n",
    "The first step in developing a machine learning model was to create a realistic baseline model. A naive simple hitting model was developed that calculated the probability of a hit solely based on the batter's hitting average.\n",
    "\n",
    "This naive model performed decently. The percent of days where it successfully picked a batter who got a hit:\n"
   ]
  },
  {
   "cell_type": "code",
   "execution_count": 13,
   "metadata": {
    "collapsed": false
   },
   "outputs": [
    {
     "data": {
      "text/plain": [
       "0.6483516483516484"
      ]
     },
     "execution_count": 13,
     "metadata": {},
     "output_type": "execute_result"
    }
   ],
   "source": [
    "from beat_the_streak.simple import SimpleHittingModel\n",
    "from beat_the_streak.dataset import test_train_split\n",
    "from beat_the_streak.metrics import BestPickForEachDayGotHitPercent\n",
    "\n",
    "_, test = test_train_split(day='2015-07-01')\n",
    "simple_hitting_model = SimpleHittingModel()\n",
    "BestPickForEachDayGotHitPercent(test.game_date, 1)(clf=simple_hitting_model, X=test[['hitting_average']], y=test.got_hit)"
   ]
  },
  {
   "cell_type": "markdown",
   "metadata": {},
   "source": [
    "All things considered, 65% is not a terrible accuracy. Can a more complicated model perform better?"
   ]
  },
  {
   "cell_type": "markdown",
   "metadata": {},
   "source": [
    "### Logistic Regression Model\n",
    "\n",
    "The next step was to train and test a logistic regression model. Scikit-learn's Logistic Regression is demonstrated below:"
   ]
  },
  {
   "cell_type": "code",
   "execution_count": 7,
   "metadata": {
    "collapsed": false
   },
   "outputs": [
    {
     "data": {
      "text/plain": [
       "0.703125"
      ]
     },
     "execution_count": 7,
     "metadata": {},
     "output_type": "execute_result"
    }
   ],
   "source": [
    "from sklearn import cross_validation, datasets, linear_model, ensemble\n",
    "from beat_the_streak.dataset import test_train_split, train_cols\n",
    "from beat_the_streak.metrics import BestPickForEachDayGotHitPercent\n",
    "\n",
    "train, test = test_train_split(day='2015-08-01')\n",
    "lg = linear_model.LogisticRegression().fit(train[train_cols], train.got_hit)\n",
    "\n",
    "BestPickForEachDayGotHitPercent(test.game_date)(clf=lg, X=test[train_cols], y=test.got_hit)"
   ]
  },
  {
   "cell_type": "markdown",
   "metadata": {},
   "source": [
    "### Random Forest Model\n",
    "\n",
    "The parameters for a random forrest model were optimized with GridSearch performing cross validation. The resulting  scikit-learn random forest is shown below:"
   ]
  },
  {
   "cell_type": "code",
   "execution_count": 11,
   "metadata": {
    "collapsed": false
   },
   "outputs": [
    {
     "data": {
      "text/plain": [
       "0.6875"
      ]
     },
     "execution_count": 11,
     "metadata": {},
     "output_type": "execute_result"
    }
   ],
   "source": [
    "from sklearn import ensemble\n",
    "from beat_the_streak.dataset import test_train_split, train_cols\n",
    "rf = ensemble.RandomForestClassifier(bootstrap=True, class_weight=None, criterion='gini',\n",
    "                max_depth=None, max_features='auto', max_leaf_nodes=100,\n",
    "                min_samples_leaf=1, min_samples_split=20,\n",
    "                min_weight_fraction_leaf=0.0, n_estimators=15, n_jobs=1,\n",
    "                oob_score=False, random_state=None, verbose=0,\n",
    "                warm_start=False)\n",
    "\n",
    "train, test = test_train_split(day='2015-08-01')\n",
    "\n",
    "voting_model.fit(train[train_cols], train.got_hit)\n",
    "\n",
    "BestPickForEachDayGotHitPercent(test.game_date)(clf=voting_model, X=test[train_cols], y=test.got_hit)\n"
   ]
  },
  {
   "cell_type": "markdown",
   "metadata": {},
   "source": [
    "### Player Model (unique random forest for each batter)\n",
    "\n",
    "One of the potential pitfalls of only running models over the entire dataset is that unique attributes of certain batters cannot be captured. For example, over the dataset as a whole the sky conditions of a game have little influence on the probability of a batter getting a hit. However, certain batters may be strongly influenced by the weather or sky conditions. \n",
    "\n",
    "An individual random forest model for each batter might be able to capture these irregularities.\n",
    "\n",
    "A custom model, called PlayerModel, was created for this project. The PlayerModel creates and fits a new unique model each batter in the training data. Then it predicts probabilities from that batter's unique model. \n",
    "\n",
    "Below is an attempt to train and test the PlayerModel with a unique random forest for each batter."
   ]
  },
  {
   "cell_type": "code",
   "execution_count": 12,
   "metadata": {
    "collapsed": false
   },
   "outputs": [
    {
     "data": {
      "text/plain": [
       "0.703125"
      ]
     },
     "execution_count": 12,
     "metadata": {},
     "output_type": "execute_result"
    }
   ],
   "source": [
    "from sklearn import ensemble\n",
    "from beat_the_streak.players import PlayerModel\n",
    "\n",
    "def factory():\n",
    "    return ensemble.RandomForestClassifier(bootstrap=True, class_weight=None, criterion='gini',\n",
    "                max_depth=None, max_features='auto', max_leaf_nodes=100,\n",
    "                min_samples_leaf=1, min_samples_split=20,\n",
    "                min_weight_fraction_leaf=0.0, n_estimators=15, n_jobs=1,\n",
    "                oob_score=False, random_state=None, verbose=0,\n",
    "                warm_start=False)\n",
    "\n",
    "cls = PlayerModel(model_cls=factory)\n",
    "\n",
    "train, test = test_train_split(day='2015-08-01')\n",
    "\n",
    "cls.fit(train[train_cols], train.got_hit)\n",
    "BestPickForEachDayGotHitPercent(test.game_date)(clf=voting_model, X=test[train_cols], y=test.got_hit)"
   ]
  },
  {
   "cell_type": "markdown",
   "metadata": {},
   "source": [
    "A 70% accuracy is not a extraordinary improvement. However, hopefully the insights gained from the PlayerModel can be used to improve the ensemble model below. "
   ]
  },
  {
   "cell_type": "markdown",
   "metadata": {},
   "source": [
    "### Ensemble Model \n",
    "\n",
    "An ensemble model was built and optimized with grid search [grid search](https://github.com/matthewmcnew/beat-the-streak/blob/master/Gridsearch.ipynb). This model is a 'voting' classifier that combines the probabilities of three different models. The three combined models were:\n",
    "\n",
    "* LogisticRegression model\n",
    "* RandomForestClassifier model\n",
    "* Player Model that ran a unique RandomForestClassifer for each batter in the dataset\n",
    "\n",
    "Each model takes a separate subset of the features. This is accomplished with a FeatureSelector transformer as part of a Pipeline.\n",
    "\n",
    "This model is trained and tested below:"
   ]
  },
  {
   "cell_type": "code",
   "execution_count": 5,
   "metadata": {
    "collapsed": false
   },
   "outputs": [
    {
     "data": {
      "text/plain": [
       "0.734375"
      ]
     },
     "execution_count": 5,
     "metadata": {},
     "output_type": "execute_result"
    }
   ],
   "source": [
    "from sklearn import ensemble, linear_model, pipeline\n",
    "from beat_the_streak.transformers import FeatureSelector\n",
    "from beat_the_streak.list_subtract import subtract\n",
    "from beat_the_streak.players import PlayerModel\n",
    "from sklearn.ensemble import VotingClassifier\n",
    "from beat_the_streak.dataset import test_train_split, train_cols\n",
    "from beat_the_streak.metrics import BestPickForEachDayGotHitPercent\n",
    "\n",
    "def classifier_factory():\n",
    "    return ensemble.RandomForestClassifier(bootstrap=True, class_weight=None, criterion='gini',\n",
    "                max_depth=None, max_features='auto', max_leaf_nodes=100,\n",
    "                min_samples_leaf=1, min_samples_split=20,\n",
    "                min_weight_fraction_leaf=0.0, n_estimators=15, n_jobs=1,\n",
    "                oob_score=False, random_state=None, verbose=0,\n",
    "                warm_start=False)\n",
    "\n",
    "rf = pipeline.Pipeline([\n",
    "        ('sel', FeatureSelector(subtract(train_cols, ['player_hash']))),\n",
    "        ('clf', ensemble.RandomForestClassifier(n_estimators=25, max_depth=12, min_samples_split=1, max_leaf_nodes=10))])\n",
    "lg = pipeline.Pipeline([\n",
    "        ('sel', FeatureSelector(subtract(train_cols, ['player_hash']))),\n",
    "        ('clf', linear_model.LogisticRegression())]) \n",
    "ply = pipeline.Pipeline([\n",
    "        ('sel', FeatureSelector(subtract(train_cols, ['hitting_average']))),\n",
    "        ('clf', PlayerModel(model_cls=classifier_factory))])\n",
    "\n",
    "voting_model = VotingClassifier(estimators=[('rf', rf), ('lg', lg), ('ply', ply)], weights=[1,1,1], voting='soft')\n",
    "\n",
    "train, test = test_train_split(day='2015-08-01')\n",
    "\n",
    "voting_model.fit(train[train_cols], train.got_hit)\n",
    "\n",
    "BestPickForEachDayGotHitPercent(test.game_date)(clf=voting_model, X=test[train_cols], y=test.got_hit)"
   ]
  },
  {
   "cell_type": "markdown",
   "metadata": {},
   "source": [
    "### Well?\n",
    "\n",
    "The ensemble voting classifier is a small but decent improvement over the naive pick the best hitter approach. However, it is definitely not perfect. With its predictions we are not going to beat the streak any time soon. \n",
    "\n",
    "This project only focused on data from 2015. An important next step would be would be to import and test against another year's dataset. This would help confirm that the ensemble voting classifier still had predictive power in unseen data in future years. There is a risk that these models have been overfit and optimized for the 2015 dataset. "
   ]
  },
  {
   "cell_type": "markdown",
   "metadata": {},
   "source": [
    "### What is left on the table?"
   ]
  },
  {
   "cell_type": "markdown",
   "metadata": {},
   "source": [
    "There are plenty of potential models and covariants that have not been studied yet. Perhaps some of these unused techniques would provide additional predictive power. \n",
    "\n",
    "A common attribute when predicting how likely a player is to get a hit is their recent past performance. For example, perhaps a batter is in a hitting slump or a hitting boom. This recent 'hotness' of a batter could be very useful. The models studied in the project only used the hitting average of batter throughout the the entire season up to the game date in question. \n",
    "\n",
    "In addition to the recent performance of the batter, it might be beneficial to study the recent performance of the starting pitcher, opposing bullpen, or even the baseball teams playing.\n",
    "\n",
    "Another angle that might be useful is historical data surrounding the batters and starting pitchers in each beat the streak 'choice'. The batting average of a player in past seasons or the number of years a pitcher has pitched may be useful when predicting the probability of a hit."
   ]
  },
  {
   "cell_type": "markdown",
   "metadata": {},
   "source": [
    "## Game Time\n",
    "\n",
    "#### Try to Beat the Streak with the help of the Voting Classifier:\n",
    "\n",
    "Run the code below and to see how many days you can pick a batter from the top probabilities of the voting classifier. "
   ]
  },
  {
   "cell_type": "code",
   "execution_count": null,
   "metadata": {
    "collapsed": false
   },
   "outputs": [
    {
     "name": "stdout",
     "output_type": "stream",
     "text": [
      "   \n",
      "Your current streak: 0\n",
      "Game Date to choose 2015-08-02\n",
      "       hitting_average  pitcher_hitting_average             name      prob\n",
      "18984         0.257353                 0.228495      Erick Aybar  0.452759\n",
      "18993         0.164557                 0.228495   Chris Iannetta  0.459151\n",
      "37943         0.202614                 0.221223    Leonys Martin  0.461126\n",
      "39468         0.258294                 0.220690  Alcides Escobar  0.465815\n",
      "27182         0.179012                 0.186620    Roberto Perez  0.465846\n",
      "20257         0.253776                 0.225577     Martin Prado  0.468348\n",
      "6494          0.162791                 0.236538      Rene Rivera  0.473165\n",
      "39469         0.197425                 0.213884       Ryan Goins  0.488830\n",
      "16207         0.231707                 0.214815       Jed Lowrie  0.575495\n",
      "20255         0.117647                 0.225577      Jeff Mathis  0.611366\n",
      "\n",
      "Make your choice:\n"
     ]
    }
   ],
   "source": [
    "from beat_the_streak.game import play\n",
    "from beat_the_streak.dataset import test_train_split\n",
    "\n",
    "_, test = test_train_split(day='2015-08-01')\n",
    "\n",
    "play(voting_model, test)"
   ]
  },
  {
   "cell_type": "code",
   "execution_count": null,
   "metadata": {
    "collapsed": true
   },
   "outputs": [],
   "source": []
  }
 ],
 "metadata": {
  "kernelspec": {
   "display_name": "Python 2",
   "language": "python",
   "name": "python2"
  },
  "language_info": {
   "codemirror_mode": {
    "name": "ipython",
    "version": 2
   },
   "file_extension": ".py",
   "mimetype": "text/x-python",
   "name": "python",
   "nbconvert_exporter": "python",
   "pygments_lexer": "ipython2",
   "version": "2.7.10"
  }
 },
 "nbformat": 4,
 "nbformat_minor": 0
}
